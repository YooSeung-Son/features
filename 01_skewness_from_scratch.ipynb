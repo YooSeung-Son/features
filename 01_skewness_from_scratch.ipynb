{
 "cells": [
  {
   "cell_type": "code",
   "execution_count": 1,
   "metadata": {},
   "outputs": [],
   "source": [
    "import numpy as np\n",
    "import pandas as pd\n",
    "import scipy.stats.stats as stats"
   ]
  },
  {
   "cell_type": "code",
   "execution_count": 2,
   "metadata": {},
   "outputs": [],
   "source": [
    "#https://github.com/scipy/scipy/blob/bcea20c65ef728dbfd4297dcd99a65a621404992/scipy/stats/_distn_infrastructure.py#L360\n",
    "def _moment(data, n, mu=None):\n",
    "    if mu is None:\n",
    "        mu = data.mean()\n",
    "    return ((data - mu)**n).mean()"
   ]
  },
  {
   "cell_type": "code",
   "execution_count": 3,
   "metadata": {},
   "outputs": [],
   "source": [
    "#https://github.com/scipy/scipy/blob/bcea20c65ef728dbfd4297dcd99a65a621404992/scipy/stats/_distn_infrastructure.py#L398\n",
    "def _skew(data):\n",
    "    \"\"\"\n",
    "    skew is third central moment / variance**(1.5)\n",
    "    \"\"\"\n",
    "    data = np.ravel(data)\n",
    "    mu = data.mean()\n",
    "    m2 = ((data - mu)**2).mean()\n",
    "    m3 = ((data - mu)**3).mean()\n",
    "    return m3 / np.power(m2, 1.5)"
   ]
  },
  {
   "cell_type": "markdown",
   "metadata": {},
   "source": [
    "<img src='https://upload.wikimedia.org/wikipedia/commons/f/f8/Negative_and_positive_skew_diagrams_%28English%29.svg' />\n",
    "<img src='https://i.stack.imgur.com/EX8Jl.png' width=300px/>\n",
    "\n",
    "A general relationship of mean and median under differently skewed unimodal distribution\n",
    "<img src='https://upload.wikimedia.org/wikipedia/commons/c/cc/Relationship_between_mean_and_median_under_different_skewness.png' width=400px/>\n"
   ]
  },
  {
   "cell_type": "code",
   "execution_count": 4,
   "metadata": {},
   "outputs": [],
   "source": [
    "data1 = [  (10,20,30,40,50,60,70),\n",
    "           (10,10,40,40,50,60,70),\n",
    "           (10,20,30,40,50,60,80)]\n",
    "\n",
    "df2 = pd.DataFrame(data=data1)"
   ]
  },
  {
   "cell_type": "code",
   "execution_count": 5,
   "metadata": {},
   "outputs": [
    {
     "data": {
      "text/plain": [
       "(3, 7)"
      ]
     },
     "execution_count": 5,
     "metadata": {},
     "output_type": "execute_result"
    }
   ],
   "source": [
    "df2.shape"
   ]
  },
  {
   "cell_type": "code",
   "execution_count": 6,
   "metadata": {},
   "outputs": [
    {
     "data": {
      "text/plain": [
       "0    10\n",
       "1    20\n",
       "2    30\n",
       "3    40\n",
       "4    50\n",
       "5    60\n",
       "6    70\n",
       "Name: 0, dtype: int64"
      ]
     },
     "execution_count": 6,
     "metadata": {},
     "output_type": "execute_result"
    }
   ],
   "source": [
    "df2.loc[0,:]"
   ]
  },
  {
   "cell_type": "code",
   "execution_count": 7,
   "metadata": {},
   "outputs": [
    {
     "name": "stdout",
     "output_type": "stream",
     "text": [
      "0 \t 0.0 0.0\n",
      "1 \t -0.26308528500754275 -0.26308528500754275\n",
      "2 \t 0.28336030804821216 0.28336030804821216\n"
     ]
    }
   ],
   "source": [
    "for i in range(3):\n",
    "    print(i,'\\t', _skew(df2.loc[i,:]), stats.skew(df2.loc[i,:]))"
   ]
  },
  {
   "cell_type": "code",
   "execution_count": 8,
   "metadata": {},
   "outputs": [
    {
     "data": {
      "text/plain": [
       "0    0.000000\n",
       "1   -0.340998\n",
       "2    0.367277\n",
       "dtype: float64"
      ]
     },
     "execution_count": 8,
     "metadata": {},
     "output_type": "execute_result"
    }
   ],
   "source": [
    "df2.skew(axis = 1)"
   ]
  },
  {
   "cell_type": "markdown",
   "metadata": {},
   "source": [
    "### TODO\n",
    "* 두 계산 확인\n",
    "* equation"
   ]
  },
  {
   "cell_type": "markdown",
   "metadata": {},
   "source": [
    "### References\n",
    "\n",
    "* https://stackoverflow.com/a/37648077\n",
    "* Glen_b (https://stats.stackexchange.com/users/805/glen-b), Proof / derivation of skewness and kurtosis formulas, URL (version: 2017-04-13): https://stats.stackexchange.com/q/111660"
   ]
  }
 ],
 "metadata": {
  "kernelspec": {
   "display_name": "Python 3",
   "language": "python",
   "name": "python3"
  },
  "language_info": {
   "codemirror_mode": {
    "name": "ipython",
    "version": 3
   },
   "file_extension": ".py",
   "mimetype": "text/x-python",
   "name": "python",
   "nbconvert_exporter": "python",
   "pygments_lexer": "ipython3",
   "version": "3.6.8"
  }
 },
 "nbformat": 4,
 "nbformat_minor": 2
}
