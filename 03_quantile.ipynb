{
 "cells": [
  {
   "cell_type": "markdown",
   "metadata": {},
   "source": [
    "# Quantile"
   ]
  },
  {
   "cell_type": "markdown",
   "metadata": {},
   "source": [
    "This is the value of x greater than q% of the ordered values from data.\n",
    "\n",
    "Quantile이란 수치 데이터를 크기 순서로 정렬했을 때 0% ~ 100% (0 ~ 1) 위치에 해당하는 숫자를 리턴한다."
   ]
  },
  {
   "cell_type": "markdown",
   "metadata": {},
   "source": [
    "## Example1"
   ]
  },
  {
   "cell_type": "code",
   "execution_count": 1,
   "metadata": {},
   "outputs": [],
   "source": [
    "from scipy.stats import norm, kurtosis\n",
    "import scipy.stats as stats\n",
    "import pandas as pd\n",
    "import numpy as np\n",
    "import matplotlib.pyplot as plt\n",
    "from tsfresh import extract_features"
   ]
  },
  {
   "cell_type": "code",
   "execution_count": 2,
   "metadata": {},
   "outputs": [],
   "source": [
    "np.random.seed(1214)"
   ]
  },
  {
   "cell_type": "markdown",
   "metadata": {},
   "source": [
    "* pandas의 df.quantile() 을 사용하기"
   ]
  },
  {
   "cell_type": "code",
   "execution_count": 3,
   "metadata": {},
   "outputs": [],
   "source": [
    "ex1 = pd.Series([1, 2, 3, 4, 5, 6, 7, 8, 9, 10])"
   ]
  },
  {
   "cell_type": "code",
   "execution_count": 4,
   "metadata": {},
   "outputs": [
    {
     "name": "stdout",
     "output_type": "stream",
     "text": [
      "3.25\n",
      "5.5\n",
      "7.75\n",
      "10.0\n"
     ]
    }
   ],
   "source": [
    "print(ex1.quantile(.25))\n",
    "print(ex1.quantile(.5))\n",
    "print(ex1.quantile(.75))\n",
    "print(ex1.quantile(1))"
   ]
  },
  {
   "cell_type": "markdown",
   "metadata": {},
   "source": [
    "* numpy의 np.percentile() 을 사용하기"
   ]
  },
  {
   "cell_type": "code",
   "execution_count": 5,
   "metadata": {},
   "outputs": [],
   "source": [
    "ex2 = [1, 2, 3, 4, 5, 6, 7, 8, 9, 10]"
   ]
  },
  {
   "cell_type": "code",
   "execution_count": 6,
   "metadata": {},
   "outputs": [
    {
     "name": "stdout",
     "output_type": "stream",
     "text": [
      "3.25\n",
      "5.5\n",
      "7.75\n",
      "10\n"
     ]
    }
   ],
   "source": [
    "print(np.quantile(ex2, 0.25))\n",
    "print(np.quantile(ex2, 0.5))\n",
    "print(np.quantile(ex2, 0.75))\n",
    "print(np.quantile(ex2, 1))"
   ]
  },
  {
   "cell_type": "markdown",
   "metadata": {},
   "source": [
    "## Example2"
   ]
  },
  {
   "cell_type": "code",
   "execution_count": 7,
   "metadata": {},
   "outputs": [
    {
     "data": {
      "text/plain": [
       "<matplotlib.legend.Legend at 0x7f46c08b34a8>"
      ]
     },
     "execution_count": 7,
     "metadata": {},
     "output_type": "execute_result"
    },
    {
     "data": {
      "image/png": "[encoded data removed]",
      "text/plain": [
       "<Figure size 432x288 with 1 Axes>"
      ]
     },
     "metadata": {
      "needs_background": "light"
     },
     "output_type": "display_data"
    }
   ],
   "source": [
    "x = np.linspace(-5, 5, 100)\n",
    "ax = plt.subplot()\n",
    "\n",
    "#정규분포 데이터 만들기\n",
    "dist = getattr(stats, 'norm')\n",
    "data = dist.rvs(size=1000) \n",
    "\n",
    "#quntile 구하기\n",
    "q25 = np.quantile(data, 0.25)\n",
    "q50 = np.quantile(data, 0.50)\n",
    "q75 = np.quantile(data, 0.75)\n",
    "q100 = np.quantile(data, 1)\n",
    "\n",
    "#pdf를 통해 data를 Probability density function 으로 바꿔그리기\n",
    "y = dist.pdf(x)\n",
    "ax.plot(x, y)\n",
    "ax.axvline(q25, color='orange')\n",
    "ax.axvline(q50, color='green')\n",
    "ax.axvline(q75, color='black')\n",
    "ax.axvline(q100, color='red')\n",
    "ax.legend(['data','q25 {}'.format(round(q25,2)), 'q50 {}'.format(round(q50,2)), 'q75 {}'.format(round(q75,2)), 'q100 {}'.format(round(q100,2))])"
   ]
  },
  {
   "cell_type": "code",
   "execution_count": 8,
   "metadata": {},
   "outputs": [],
   "source": [
    "df = pd.DataFrame(data)"
   ]
  },
  {
   "cell_type": "code",
   "execution_count": 9,
   "metadata": {},
   "outputs": [
    {
     "data": {
      "text/plain": [
       "0   -1.339333\n",
       "Name: 0.1, dtype: float64"
      ]
     },
     "execution_count": 9,
     "metadata": {},
     "output_type": "execute_result"
    }
   ],
   "source": [
    "df.quantile(q=0.1)"
   ]
  },
  {
   "cell_type": "markdown",
   "metadata": {},
   "source": [
    "* tsfresh로 quantile값 구해보기"
   ]
  },
  {
   "cell_type": "code",
   "execution_count": 10,
   "metadata": {},
   "outputs": [],
   "source": [
    "df2 = df.copy()\n",
    "df2['id'] = 0"
   ]
  },
  {
   "cell_type": "code",
   "execution_count": 11,
   "metadata": {},
   "outputs": [],
   "source": [
    "settings = {'quantile': [{'q': 0.1},\n",
    "  {'q': 0.2},\n",
    "  {'q': 0.25},\n",
    "  {'q': 0.3},\n",
    "  {'q': 0.4},\n",
    "  {'q': 0.5},\n",
    "  {'q': 0.6},\n",
    "  {'q': 0.7},\n",
    "  {'q': 0.8},\n",
    "  {'q': 0.9}]}"
   ]
  },
  {
   "cell_type": "code",
   "execution_count": 12,
   "metadata": {},
   "outputs": [
    {
     "name": "stderr",
     "output_type": "stream",
     "text": [
      "Feature Extraction: 100%|██████████| 1/1 [00:00<00:00, 239.26it/s]\n"
     ]
    }
   ],
   "source": [
    "# compute the kurtosis using tsfresh\n",
    "quantile = extract_features(df2, column_id='id', default_fc_parameters=settings)"
   ]
  },
  {
   "cell_type": "code",
   "execution_count": 13,
   "metadata": {},
   "outputs": [
    {
     "data": {
      "text/html": [
       "<div>\n",
       "<style scoped>\n",
       "    .dataframe tbody tr th:only-of-type {\n",
       "        vertical-align: middle;\n",
       "    }\n",
       "\n",
       "    .dataframe tbody tr th {\n",
       "        vertical-align: top;\n",
       "    }\n",
       "\n",
       "    .dataframe thead th {\n",
       "        text-align: right;\n",
       "    }\n",
       "</style>\n",
       "<table border=\"1\" class=\"dataframe\">\n",
       "  <thead>\n",
       "    <tr style=\"text-align: right;\">\n",
       "      <th></th>\n",
       "      <th>0__quantile__q_0.1</th>\n",
       "      <th>0__quantile__q_0.2</th>\n",
       "      <th>0__quantile__q_0.25</th>\n",
       "      <th>0__quantile__q_0.3</th>\n",
       "      <th>0__quantile__q_0.4</th>\n",
       "      <th>0__quantile__q_0.5</th>\n",
       "      <th>0__quantile__q_0.6</th>\n",
       "      <th>0__quantile__q_0.7</th>\n",
       "      <th>0__quantile__q_0.8</th>\n",
       "      <th>0__quantile__q_0.9</th>\n",
       "    </tr>\n",
       "  </thead>\n",
       "  <tbody>\n",
       "    <tr>\n",
       "      <th>0</th>\n",
       "      <td>-1.339333</td>\n",
       "      <td>-0.891305</td>\n",
       "      <td>-0.678322</td>\n",
       "      <td>-0.524374</td>\n",
       "      <td>-0.236041</td>\n",
       "      <td>-0.03221</td>\n",
       "      <td>0.199644</td>\n",
       "      <td>0.494795</td>\n",
       "      <td>0.833031</td>\n",
       "      <td>1.233512</td>\n",
       "    </tr>\n",
       "  </tbody>\n",
       "</table>\n",
       "</div>"
      ],
      "text/plain": [
       "   0__quantile__q_0.1  0__quantile__q_0.2  0__quantile__q_0.25  \\\n",
       "0           -1.339333           -0.891305            -0.678322   \n",
       "\n",
       "   0__quantile__q_0.3  0__quantile__q_0.4  0__quantile__q_0.5  \\\n",
       "0           -0.524374           -0.236041            -0.03221   \n",
       "\n",
       "   0__quantile__q_0.6  0__quantile__q_0.7  0__quantile__q_0.8  \\\n",
       "0            0.199644            0.494795            0.833031   \n",
       "\n",
       "   0__quantile__q_0.9  \n",
       "0            1.233512  "
      ]
     },
     "execution_count": 13,
     "metadata": {},
     "output_type": "execute_result"
    }
   ],
   "source": [
    "quantile"
   ]
  },
  {
   "cell_type": "markdown",
   "metadata": {},
   "source": [
    "### Reference\n",
    "* numpy  \n",
    "https://numpy.org/doc/stable/reference/generated/numpy.quantile.html\n",
    "* pandas  \n",
    "https://pandas.pydata.org/pandas-docs/stable/reference/api/pandas.DataFrame.quantile.html\n",
    "* tsfresh  \n",
    "https://tsfresh.readthedocs.io/en/latest/api/tsfresh.feature_extraction.html#tsfresh.feature_extraction.feature_calculators.quantile\n",
    "* blog  \n",
    "https://sosomemo.tistory.com/34"
   ]
  },
  {
   "cell_type": "code",
   "execution_count": null,
   "metadata": {},
   "outputs": [],
   "source": []
  }
 ],
 "metadata": {
  "kernelspec": {
   "display_name": "Python 3",
   "language": "python",
   "name": "python3"
  },
  "language_info": {
   "codemirror_mode": {
    "name": "ipython",
    "version": 3
   },
   "file_extension": ".py",
   "mimetype": "text/x-python",
   "name": "python",
   "nbconvert_exporter": "python",
   "pygments_lexer": "ipython3",
   "version": "3.6.9"
  }
 },
 "nbformat": 4,
 "nbformat_minor": 4
}
