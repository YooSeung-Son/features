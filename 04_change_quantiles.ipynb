{
 "cells": [
  {
   "cell_type": "markdown",
   "metadata": {},
   "source": [
    "#  Change_quantiles"
   ]
  },
  {
   "cell_type": "markdown",
   "metadata": {},
   "source": [
    "First fixes a corridor given by the quantiles ql and qh of the distribution of x. Then calculates the average, absolute value of consecutive changes of the series x inside this corridor.\n",
    "\n",
    "ql :lower quantile<br>\n",
    "qh : higher quantile\n",
    "\n",
    "[ql - qh] 분위구간 안에서 데이터가 연속적으로 나타나는 값의 차이 평균 또는 분산을 반환"
   ]
  },
  {
   "cell_type": "code",
   "execution_count": 2,
   "metadata": {},
   "outputs": [],
   "source": [
    "import pandas as pd\n",
    "import numpy as np\n",
    "import matplotlib.pyplot as plt\n",
    "\n",
    "from tsfresh.feature_extraction import settings, extract_features"
   ]
  },
  {
   "cell_type": "code",
   "execution_count": 3,
   "metadata": {},
   "outputs": [],
   "source": [
    "np.random.seed(1000)"
   ]
  },
  {
   "cell_type": "markdown",
   "metadata": {},
   "source": [
    "## Example 01"
   ]
  },
  {
   "cell_type": "code",
   "execution_count": 11,
   "metadata": {},
   "outputs": [],
   "source": [
    "ex1 = np.random.rand(30)"
   ]
  },
  {
   "cell_type": "code",
   "execution_count": 12,
   "metadata": {},
   "outputs": [
    {
     "name": "stdout",
     "output_type": "stream",
     "text": [
      "[0.84241124 0.19874506 0.02072272 0.60165179 0.97091916 0.73213217\n",
      " 0.73639381 0.00564072 0.29116439 0.74535564 0.07664517 0.77987308\n",
      " 0.19980574 0.45237551 0.84905468 0.17908859 0.97449772 0.90629069\n",
      " 0.3178783  0.64066667 0.68260966 0.62882556 0.10128694 0.66304169\n",
      " 0.94372096 0.22806947 0.23237955 0.91235757 0.10078862 0.89303868]\n"
     ]
    },
    {
     "data": {
      "text/plain": [
       "[<matplotlib.lines.Line2D at 0x7f7e406bd4a8>]"
      ]
     },
     "execution_count": 12,
     "metadata": {},
     "output_type": "execute_result"
    },
    {
     "data": {
      "image/png": "[encoded data removed]",
      "text/plain": [
       "<Figure size 432x288 with 1 Axes>"
      ]
     },
     "metadata": {
      "needs_background": "light"
     },
     "output_type": "display_data"
    }
   ],
   "source": [
    "print(ex1)\n",
    "\n",
    "plt.plot(ex1, 'o')"
   ]
  },
  {
   "cell_type": "code",
   "execution_count": 14,
   "metadata": {},
   "outputs": [
    {
     "name": "stdout",
     "output_type": "stream",
     "text": [
      "0.3985766280003722\n",
      "0.8578514830653456\n"
     ]
    },
    {
     "data": {
      "text/plain": [
       "<matplotlib.lines.Line2D at 0x7f7e4060f748>"
      ]
     },
     "execution_count": 14,
     "metadata": {},
     "output_type": "execute_result"
    },
    {
     "data": {
      "image/png": "[encoded data removed]",
      "text/plain": [
       "<Figure size 432x288 with 1 Axes>"
      ]
     },
     "metadata": {
      "needs_background": "light"
     },
     "output_type": "display_data"
    }
   ],
   "source": [
    "ex1_series = pd.Series(ex1)\n",
    "\n",
    "# ql = lower quantile\n",
    "# qh = higher quantile\n",
    "\n",
    "q0 = 0.0\n",
    "ql = 0.4\n",
    "qh = 0.8\n",
    "q1 = 1.0\n",
    "\n",
    "print(ex1_series.quantile(ql))\n",
    "print(ex1_series.quantile(qh))\n",
    "\n",
    "ax = plt.subplot()\n",
    "ax.plot(ex1, 'o')\n",
    "ax.axhline(ql, color = 'red')\n",
    "ax.axhline(qh, color = 'yellow')\n",
    "ax.axhline(q0, color = 'green')\n",
    "ax.axhline(q1, color = 'purple')"
   ]
  },
  {
   "cell_type": "code",
   "execution_count": 15,
   "metadata": {},
   "outputs": [
    {
     "data": {
      "text/plain": [
       "array([ True, False, False,  True, False,  True,  True, False, False,\n",
       "        True, False,  True, False,  True,  True, False, False, False,\n",
       "       False,  True,  True,  True, False,  True, False, False, False,\n",
       "       False, False, False])"
      ]
     },
     "execution_count": 15,
     "metadata": {},
     "output_type": "execute_result"
    }
   ],
   "source": [
    "# [ql, qh]분위에 해당하는 값 = True\n",
    "bin_cat = pd.qcut(ex1, [ql, qh], labels = False)\n",
    "bin_cat_0 = bin_cat == 0 \n",
    "\n",
    "bin_cat_0"
   ]
  },
  {
   "cell_type": "code",
   "execution_count": 16,
   "metadata": {},
   "outputs": [
    {
     "data": {
      "text/plain": [
       "12"
      ]
     },
     "execution_count": 16,
     "metadata": {},
     "output_type": "execute_result"
    }
   ],
   "source": [
    "np.sum(bin_cat_0)"
   ]
  },
  {
   "cell_type": "markdown",
   "metadata": {},
   "source": [
    "calculates mean of consecutive changes of the series x"
   ]
  },
  {
   "cell_type": "code",
   "execution_count": 17,
   "metadata": {},
   "outputs": [
    {
     "data": {
      "text/plain": [
       "array([False,  True, False, False,  True, False,  True,  True, False,\n",
       "       False,  True, False,  True, False,  True,  True, False, False,\n",
       "       False, False,  True,  True,  True, False,  True, False, False,\n",
       "       False, False, False])"
      ]
     },
     "execution_count": 17,
     "metadata": {},
     "output_type": "execute_result"
    }
   ],
   "source": [
    "def _roll(a, shift):\n",
    "    if not isinstance(a, np.ndarray):\n",
    "        a = np.asarray(a)\n",
    "    idx = shift % len(a)\n",
    "    return np.concatenate([a[-idx:], a[:-idx]])\n",
    "\n",
    "_roll(bin_cat_0, 1)"
   ]
  },
  {
   "cell_type": "code",
   "execution_count": 18,
   "metadata": {},
   "outputs": [
    {
     "data": {
      "text/plain": [
       "array([False, False, False, False, False,  True, False, False, False,\n",
       "       False, False, False, False,  True, False, False, False, False,\n",
       "       False,  True,  True, False, False, False, False, False, False,\n",
       "       False, False])"
      ]
     },
     "execution_count": 18,
     "metadata": {},
     "output_type": "execute_result"
    }
   ],
   "source": [
    "a = bin_cat_0 # [ql:qh]에 해당하는 값\n",
    "b = _roll(bin_cat_0, 1) # bin_cat_0의 값을 한칸 씩 뒤로 미룸 \n",
    "\n",
    "# 연속적으로 나타나는 값을 찾기 위해 두 값을 비교하여 일치하는 값을 찾음 \n",
    "# 연속적인 데이터만 = True\n",
    "ind = (a & b)[1: ]\n",
    "ind"
   ]
  },
  {
   "cell_type": "code",
   "execution_count": 19,
   "metadata": {},
   "outputs": [
    {
     "data": {
      "text/plain": [
       "(array([ 5, 13, 19, 20]),)"
      ]
     },
     "execution_count": 19,
     "metadata": {},
     "output_type": "execute_result"
    }
   ],
   "source": [
    "ind_inside_corridor = np.where(ind ==1)\n",
    "\n",
    "ind_inside_corridor # 연속적인 데이터 값의 index"
   ]
  },
  {
   "cell_type": "code",
   "execution_count": 20,
   "metadata": {},
   "outputs": [
    {
     "data": {
      "text/plain": [
       "array([-0.64366618, -0.17802234,  0.58092907,  0.36926737, -0.23878699,\n",
       "        0.00426164, -0.73075309,  0.28552367,  0.45419126, -0.66871047,\n",
       "        0.7032279 , -0.58006734,  0.25256978,  0.39667917, -0.66996609,\n",
       "        0.79540913, -0.06820703, -0.58841239,  0.32278837,  0.04194299,\n",
       "       -0.0537841 , -0.52753862,  0.56175475,  0.28067927, -0.71565149,\n",
       "        0.00431008,  0.67997803, -0.81156895,  0.79225006])"
      ]
     },
     "execution_count": 20,
     "metadata": {},
     "output_type": "execute_result"
    }
   ],
   "source": [
    "# 데이터의 차분을 구함 \n",
    "\n",
    "div = np.diff(ex1)\n",
    "\n",
    "div"
   ]
  },
  {
   "cell_type": "code",
   "execution_count": 21,
   "metadata": {},
   "outputs": [
    {
     "data": {
      "text/plain": [
       "array([ 0.00426164,  0.39667917,  0.04194299, -0.0537841 ])"
      ]
     },
     "execution_count": 21,
     "metadata": {},
     "output_type": "execute_result"
    }
   ],
   "source": [
    "# 차분 array 중 해당하는 값을 찾음 \n",
    "\n",
    "c = div[ind_inside_corridor]\n",
    "\n",
    "c"
   ]
  },
  {
   "cell_type": "code",
   "execution_count": 22,
   "metadata": {},
   "outputs": [
    {
     "data": {
      "text/plain": [
       "0.09727492411285887"
      ]
     },
     "execution_count": 22,
     "metadata": {},
     "output_type": "execute_result"
    }
   ],
   "source": [
    "# [0.4 - 0.8] 분위 구간안에서 연속적으로 나타는 값의 차분의 평균을 구함 \n",
    "\n",
    "np.mean(c)"
   ]
  },
  {
   "cell_type": "markdown",
   "metadata": {},
   "source": [
    "## tsfresh "
   ]
  },
  {
   "cell_type": "code",
   "execution_count": 24,
   "metadata": {},
   "outputs": [],
   "source": [
    "ex1_c = ex1.copy()\n",
    "ex1_c = pd.DataFrame(ex1_c)\n",
    "ex1_c['id'] = 0"
   ]
  },
  {
   "cell_type": "code",
   "execution_count": 25,
   "metadata": {},
   "outputs": [],
   "source": [
    "settings = {'change_quantiles': [{'ql': 0.4, 'qh': 0.8, 'isabs': False, 'f_agg': 'mean'} ]}"
   ]
  },
  {
   "cell_type": "code",
   "execution_count": 26,
   "metadata": {
    "scrolled": true
   },
   "outputs": [
    {
     "name": "stderr",
     "output_type": "stream",
     "text": [
      "Feature Extraction: 100%|██████████| 1/1 [00:00<00:00, 882.45it/s]\n"
     ]
    }
   ],
   "source": [
    "change_quantiles = extract_features(ex1_c, column_id='id', default_fc_parameters=settings)"
   ]
  },
  {
   "cell_type": "code",
   "execution_count": 27,
   "metadata": {},
   "outputs": [
    {
     "data": {
      "text/html": [
       "<div>\n",
       "<style scoped>\n",
       "    .dataframe tbody tr th:only-of-type {\n",
       "        vertical-align: middle;\n",
       "    }\n",
       "\n",
       "    .dataframe tbody tr th {\n",
       "        vertical-align: top;\n",
       "    }\n",
       "\n",
       "    .dataframe thead th {\n",
       "        text-align: right;\n",
       "    }\n",
       "</style>\n",
       "<table border=\"1\" class=\"dataframe\">\n",
       "  <thead>\n",
       "    <tr style=\"text-align: right;\">\n",
       "      <th></th>\n",
       "      <th>0__change_quantiles__f_agg_\"mean\"__isabs_False__qh_0.8__ql_0.4</th>\n",
       "    </tr>\n",
       "  </thead>\n",
       "  <tbody>\n",
       "    <tr>\n",
       "      <th>0</th>\n",
       "      <td>0.097275</td>\n",
       "    </tr>\n",
       "  </tbody>\n",
       "</table>\n",
       "</div>"
      ],
      "text/plain": [
       "   0__change_quantiles__f_agg_\"mean\"__isabs_False__qh_0.8__ql_0.4\n",
       "0                                           0.097275             "
      ]
     },
     "execution_count": 27,
     "metadata": {},
     "output_type": "execute_result"
    }
   ],
   "source": [
    "change_quantiles"
   ]
  },
  {
   "cell_type": "code",
   "execution_count": null,
   "metadata": {},
   "outputs": [],
   "source": []
  },
  {
   "cell_type": "markdown",
   "metadata": {},
   "source": [
    "## Example 02"
   ]
  },
  {
   "cell_type": "code",
   "execution_count": 29,
   "metadata": {},
   "outputs": [
    {
     "data": {
      "text/plain": [
       "array([-0.16148057,  0.44168197, -0.02447697, -0.44723947, -0.22180932,\n",
       "       -0.49334479, -1.62571482, -0.25135198,  1.21272991, -0.46580666,\n",
       "       -1.01039286, -1.33757273,  0.86239982, -0.32695765,  0.24768664,\n",
       "       -0.00199142, -0.01003971,  0.59531877, -0.51821246,  0.0958378 ,\n",
       "        0.67240047,  0.79682221,  0.9808807 ,  0.81945999,  0.26850672,\n",
       "        0.0712132 , -0.20205594, -0.81572139, -0.15018058,  1.45277757])"
      ]
     },
     "execution_count": 29,
     "metadata": {},
     "output_type": "execute_result"
    }
   ],
   "source": [
    "ex2 = np.random.randn(30)\n",
    "\n",
    "ex2"
   ]
  },
  {
   "cell_type": "code",
   "execution_count": 37,
   "metadata": {},
   "outputs": [
    {
     "name": "stdout",
     "output_type": "stream",
     "text": [
      "-0.47131428657589813\n",
      "0.08106304147080827\n"
     ]
    },
    {
     "data": {
      "text/plain": [
       "<matplotlib.lines.Line2D at 0x7f7e98b048d0>"
      ]
     },
     "execution_count": 37,
     "metadata": {},
     "output_type": "execute_result"
    },
    {
     "data": {
      "image/png": "[encoded data removed]",
      "text/plain": [
       "<Figure size 432x288 with 1 Axes>"
      ]
     },
     "metadata": {
      "needs_background": "light"
     },
     "output_type": "display_data"
    }
   ],
   "source": [
    "ex2_series = pd.Series(ex2)\n",
    "\n",
    "q0 = 0.0\n",
    "ql = 0.2\n",
    "qh = 0.6 \n",
    "q1 = 1.0\n",
    "\n",
    "print(ex2_series.quantile(ql))\n",
    "print(ex2_series.quantile(qh))\n",
    "\n",
    "ax = plt.subplot()\n",
    "ax.plot(ex1, 'o')\n",
    "ax.axhline(ql, color = 'red')\n",
    "ax.axhline(qh, color = 'yellow')\n",
    "ax.axhline(q0, color = 'green')\n",
    "ax.axhline(q1, color = 'purple')"
   ]
  },
  {
   "cell_type": "code",
   "execution_count": 38,
   "metadata": {},
   "outputs": [
    {
     "data": {
      "text/plain": [
       "12"
      ]
     },
     "execution_count": 38,
     "metadata": {},
     "output_type": "execute_result"
    }
   ],
   "source": [
    "cnt = 0\n",
    "for i in range(len(ex2)):\n",
    "    if ex2_series.quantile(ql) <= ex2_series[i] <= ex2_series.quantile(qh):\n",
    "        cnt += 1\n",
    "\n",
    "cnt"
   ]
  },
  {
   "cell_type": "code",
   "execution_count": 39,
   "metadata": {},
   "outputs": [
    {
     "data": {
      "text/plain": [
       "12"
      ]
     },
     "execution_count": 39,
     "metadata": {},
     "output_type": "execute_result"
    }
   ],
   "source": [
    "bin_cat = pd.qcut(ex2, [ql, qh], labels = False)\n",
    "bin_cat_0 = bin_cat == 0 \n",
    "\n",
    "np.sum(bin_cat_0)"
   ]
  },
  {
   "cell_type": "code",
   "execution_count": 40,
   "metadata": {},
   "outputs": [
    {
     "data": {
      "text/plain": [
       "(array([ 2,  3, 15, 25]),)"
      ]
     },
     "execution_count": 40,
     "metadata": {},
     "output_type": "execute_result"
    }
   ],
   "source": [
    "idx = (bin_cat_0 & _roll(bin_cat_0, 1))[1:]\n",
    "idx_inside_corridor = np.where(idx ==1)\n",
    "\n",
    "idx_inside_corridor\n"
   ]
  },
  {
   "cell_type": "code",
   "execution_count": 41,
   "metadata": {},
   "outputs": [
    {
     "data": {
      "text/plain": [
       "array([-0.4227625 ,  0.22543015, -0.00804828, -0.27326914])"
      ]
     },
     "execution_count": 41,
     "metadata": {},
     "output_type": "execute_result"
    }
   ],
   "source": [
    "div = np.diff(ex2)\n",
    "\n",
    "div[idx_inside_corridor]"
   ]
  },
  {
   "cell_type": "code",
   "execution_count": 42,
   "metadata": {},
   "outputs": [
    {
     "data": {
      "text/plain": [
       "-0.11966244474663221"
      ]
     },
     "execution_count": 42,
     "metadata": {},
     "output_type": "execute_result"
    }
   ],
   "source": [
    "# [0.2 - 0.4] 분위에서 연속적으로 나타는 값의 차분의 평균을 구함 \n",
    "\n",
    "np.mean(div[idx_inside_corridor])"
   ]
  },
  {
   "cell_type": "markdown",
   "metadata": {},
   "source": [
    "## tsfresh"
   ]
  },
  {
   "cell_type": "code",
   "execution_count": 43,
   "metadata": {},
   "outputs": [],
   "source": [
    "ex2_c = ex2.copy()\n",
    "ex2_c = pd.DataFrame(ex2_c)\n",
    "ex2_c['id'] = 0"
   ]
  },
  {
   "cell_type": "code",
   "execution_count": 44,
   "metadata": {},
   "outputs": [],
   "source": [
    "settings = {'change_quantiles': [{'ql': 0.2, 'qh': 0.6, 'isabs': False, 'f_agg': 'mean'} ]}"
   ]
  },
  {
   "cell_type": "code",
   "execution_count": 45,
   "metadata": {},
   "outputs": [
    {
     "name": "stderr",
     "output_type": "stream",
     "text": [
      "Feature Extraction: 100%|██████████| 1/1 [00:00<00:00, 644.78it/s]\n"
     ]
    }
   ],
   "source": [
    "change_quantiles = extract_features(ex2_c, column_id ='id', default_fc_parameters=settings)"
   ]
  },
  {
   "cell_type": "code",
   "execution_count": 46,
   "metadata": {},
   "outputs": [
    {
     "data": {
      "text/html": [
       "<div>\n",
       "<style scoped>\n",
       "    .dataframe tbody tr th:only-of-type {\n",
       "        vertical-align: middle;\n",
       "    }\n",
       "\n",
       "    .dataframe tbody tr th {\n",
       "        vertical-align: top;\n",
       "    }\n",
       "\n",
       "    .dataframe thead th {\n",
       "        text-align: right;\n",
       "    }\n",
       "</style>\n",
       "<table border=\"1\" class=\"dataframe\">\n",
       "  <thead>\n",
       "    <tr style=\"text-align: right;\">\n",
       "      <th></th>\n",
       "      <th>0__change_quantiles__f_agg_\"mean\"__isabs_False__qh_0.6__ql_0.2</th>\n",
       "    </tr>\n",
       "  </thead>\n",
       "  <tbody>\n",
       "    <tr>\n",
       "      <th>0</th>\n",
       "      <td>-0.119662</td>\n",
       "    </tr>\n",
       "  </tbody>\n",
       "</table>\n",
       "</div>"
      ],
      "text/plain": [
       "   0__change_quantiles__f_agg_\"mean\"__isabs_False__qh_0.6__ql_0.2\n",
       "0                                          -0.119662             "
      ]
     },
     "execution_count": 46,
     "metadata": {},
     "output_type": "execute_result"
    }
   ],
   "source": [
    "change_quantiles"
   ]
  },
  {
   "cell_type": "markdown",
   "metadata": {},
   "source": [
    "### Reference"
   ]
  },
  {
   "cell_type": "markdown",
   "metadata": {},
   "source": [
    "* pandas <br>\n",
    "https://pandas.pydata.org/pandas-docs/stable/reference/api/pandas.qcut.html\n",
    "\n",
    "* tsfresh\n",
    "https://tsfresh.readthedocs.io/en/latest/_modules/tsfresh/feature_extraction/feature_calculators.html#change_quantiles<br>\n",
    "https://tsfresh.readthedocs.io/en/latest/api/tsfresh.feature_extraction.html\n",
    "\n",
    "* blog<br>\n",
    "https://kongdols-room.tistory.com/175"
   ]
  }
 ],
 "metadata": {
  "kernelspec": {
   "display_name": "Python 3",
   "language": "python",
   "name": "python3"
  },
  "language_info": {
   "codemirror_mode": {
    "name": "ipython",
    "version": 3
   },
   "file_extension": ".py",
   "mimetype": "text/x-python",
   "name": "python",
   "nbconvert_exporter": "python",
   "pygments_lexer": "ipython3",
   "version": "3.6.9"
  }
 },
 "nbformat": 4,
 "nbformat_minor": 4
}
