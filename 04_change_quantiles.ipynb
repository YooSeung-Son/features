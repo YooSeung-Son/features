{
 "cells": [
  {
   "cell_type": "markdown",
   "metadata": {},
   "source": [
    "#  Change_quantiles"
   ]
  },
  {
   "cell_type": "markdown",
   "metadata": {},
   "source": [
    "First fixes a corridor given by the quantiles ql and qh of the distribution of x. Then calculates the average, absolute value of consecutive changes of the series x inside this corridor.\n",
    "\n",
    "ql :lower quantile<br>\n",
    "qh : higher quantile\n",
    "\n",
    "[ql - qh] 분위구간 안에서 데이터가 연속적으로 나타나는 값의 차이 평균 또는 분산을 반환"
   ]
  },
  {
   "cell_type": "code",
   "execution_count": 1,
   "metadata": {},
   "outputs": [],
   "source": [
    "import pandas as pd\n",
    "import numpy as np\n",
    "import matplotlib.pyplot as plt\n",
    "\n",
    "from tsfresh.feature_extraction import settings, extract_features"
   ]
  },
  {
   "cell_type": "code",
   "execution_count": 2,
   "metadata": {},
   "outputs": [],
   "source": [
    "np.random.seed(1000)"
   ]
  },
  {
   "cell_type": "markdown",
   "metadata": {},
   "source": [
    "## Example 01"
   ]
  },
  {
   "cell_type": "code",
   "execution_count": 3,
   "metadata": {},
   "outputs": [],
   "source": [
    "ex1 = np.random.rand(30)"
   ]
  },
  {
   "cell_type": "code",
   "execution_count": 4,
   "metadata": {},
   "outputs": [
    {
     "name": "stdout",
     "output_type": "stream",
     "text": [
      "[0.65358959 0.11500694 0.95028286 0.4821914  0.87247454 0.21233268\n",
      " 0.04070962 0.39719446 0.2331322  0.84174072 0.20708234 0.74246953\n",
      " 0.39215413 0.18225652 0.74353941 0.06958208 0.8853372  0.9526444\n",
      " 0.93114343 0.41543095 0.02898166 0.98202748 0.33963768 0.70668719\n",
      " 0.36187707 0.0351059  0.85505825 0.65725351 0.76568299 0.55408724]\n"
     ]
    },
    {
     "data": {
      "text/plain": [
       "[<matplotlib.lines.Line2D at 0x7f9ddb5a0668>]"
      ]
     },
     "execution_count": 4,
     "metadata": {},
     "output_type": "execute_result"
    },
    {
     "data": {
      "image/png": "[encoded data removed]",
      "text/plain": [
       "<Figure size 432x288 with 1 Axes>"
      ]
     },
     "metadata": {
      "needs_background": "light"
     },
     "output_type": "display_data"
    }
   ],
   "source": [
    "print(ex1)\n",
    "\n",
    "plt.plot(ex1, 'o')"
   ]
  },
  {
   "cell_type": "code",
   "execution_count": 5,
   "metadata": {},
   "outputs": [
    {
     "name": "stdout",
     "output_type": "stream",
     "text": [
      "0.39517832793095997\n",
      "0.8585415096287335\n"
     ]
    },
    {
     "data": {
      "text/plain": [
       "<matplotlib.lines.Line2D at 0x7f9dd949f5f8>"
      ]
     },
     "execution_count": 5,
     "metadata": {},
     "output_type": "execute_result"
    },
    {
     "data": {
      "image/png": "[encoded data removed]",
      "text/plain": [
       "<Figure size 432x288 with 1 Axes>"
      ]
     },
     "metadata": {
      "needs_background": "light"
     },
     "output_type": "display_data"
    }
   ],
   "source": [
    "ex1_series = pd.Series(ex1)\n",
    "\n",
    "# ql = lower quantile\n",
    "# qh = higher quantile\n",
    "\n",
    "q0 = ex1_series.quantile(0.0)\n",
    "ql = ex1_series.quantile(0.4)\n",
    "qh = ex1_series.quantile(0.8)\n",
    "q1 = ex1_series.quantile(1.0)\n",
    "\n",
    "print(ql)\n",
    "print(qh)\n",
    "ax = plt.subplot()\n",
    "ax.plot(ex1, 'o')\n",
    "ax.axhline(ql, color = 'red')\n",
    "ax.axhline(qh, color = 'yellow')\n",
    "ax.axhline(q0, color = 'green')\n",
    "ax.axhline(q1, color = 'purple')"
   ]
  },
  {
   "cell_type": "code",
   "execution_count": 24,
   "metadata": {},
   "outputs": [
    {
     "data": {
      "text/plain": [
       "array([ True, False, False,  True, False, False, False,  True, False,\n",
       "        True, False,  True, False, False,  True, False, False, False,\n",
       "       False,  True, False, False, False,  True, False, False,  True,\n",
       "        True,  True,  True])"
      ]
     },
     "execution_count": 24,
     "metadata": {},
     "output_type": "execute_result"
    }
   ],
   "source": [
    "n_ql = 0.4\n",
    "n_qh = 0.8\n",
    "\n",
    "# [ql, qh]분위에 해당하는 값 = True\n",
    "bin_cat = pd.qcut(ex1, [n_ql, n_qh], labels = False)\n",
    "bin_cat_0 = bin_cat == 0 \n",
    "\n",
    "bin_cat_0"
   ]
  },
  {
   "cell_type": "code",
   "execution_count": 25,
   "metadata": {},
   "outputs": [
    {
     "data": {
      "text/plain": [
       "12"
      ]
     },
     "execution_count": 25,
     "metadata": {},
     "output_type": "execute_result"
    }
   ],
   "source": [
    "np.sum(bin_cat_0)"
   ]
  },
  {
   "cell_type": "markdown",
   "metadata": {},
   "source": [
    "calculates mean of consecutive changes of the series x"
   ]
  },
  {
   "cell_type": "code",
   "execution_count": 26,
   "metadata": {},
   "outputs": [
    {
     "data": {
      "text/plain": [
       "array([ True,  True, False, False,  True, False, False, False,  True,\n",
       "       False,  True, False,  True, False, False,  True, False, False,\n",
       "       False, False,  True, False, False, False,  True, False, False,\n",
       "        True,  True,  True])"
      ]
     },
     "execution_count": 26,
     "metadata": {},
     "output_type": "execute_result"
    }
   ],
   "source": [
    "def _roll(a, shift):\n",
    "    if not isinstance(a, np.ndarray):\n",
    "        a = np.asarray(a)\n",
    "    idx = shift % len(a)\n",
    "    return np.concatenate([a[-idx:], a[:-idx]])\n",
    "\n",
    "_roll(bin_cat_0, 1)"
   ]
  },
  {
   "cell_type": "code",
   "execution_count": 27,
   "metadata": {},
   "outputs": [
    {
     "data": {
      "text/plain": [
       "array([False, False, False, False, False, False, False, False, False,\n",
       "       False, False, False, False, False, False, False, False, False,\n",
       "       False, False, False, False, False, False, False, False,  True,\n",
       "        True,  True])"
      ]
     },
     "execution_count": 27,
     "metadata": {},
     "output_type": "execute_result"
    }
   ],
   "source": [
    "a = bin_cat_0 # [ql:qh]에 해당하는 값\n",
    "b = _roll(bin_cat_0, 1) # bin_cat_0의 값을 한칸 씩 뒤로 미룸 \n",
    "\n",
    "# 연속적으로 나타나는 값을 찾기 위해 두 값을 비교하여 일치하는 값을 찾음 \n",
    "# 연속적인 데이터만 = True\n",
    "ind = (a & b)[1: ]\n",
    "ind"
   ]
  },
  {
   "cell_type": "code",
   "execution_count": 28,
   "metadata": {},
   "outputs": [
    {
     "data": {
      "text/plain": [
       "(array([26, 27, 28]),)"
      ]
     },
     "execution_count": 28,
     "metadata": {},
     "output_type": "execute_result"
    }
   ],
   "source": [
    "ind_inside_corridor = np.where(ind ==1)\n",
    "\n",
    "ind_inside_corridor # 연속적인 데이터 값의 index"
   ]
  },
  {
   "cell_type": "code",
   "execution_count": 29,
   "metadata": {},
   "outputs": [
    {
     "data": {
      "text/plain": [
       "array([-0.53858264,  0.83527592, -0.46809146,  0.39028313, -0.66014185,\n",
       "       -0.17162306,  0.35648484, -0.16406226,  0.60860853, -0.63465838,\n",
       "        0.53538719, -0.35031541, -0.20989761,  0.56128289, -0.67395733,\n",
       "        0.81575512,  0.06730719, -0.02150096, -0.51571248, -0.38644929,\n",
       "        0.95304583, -0.6423898 ,  0.36704951, -0.34481013, -0.32677117,\n",
       "        0.81995236, -0.19780475,  0.10842949, -0.21159576])"
      ]
     },
     "execution_count": 29,
     "metadata": {},
     "output_type": "execute_result"
    }
   ],
   "source": [
    "# 데이터의 차분을 구함 \n",
    "\n",
    "div = np.diff(ex1)\n",
    "\n",
    "div"
   ]
  },
  {
   "cell_type": "code",
   "execution_count": 30,
   "metadata": {},
   "outputs": [
    {
     "data": {
      "text/plain": [
       "array([-0.19780475,  0.10842949, -0.21159576])"
      ]
     },
     "execution_count": 30,
     "metadata": {},
     "output_type": "execute_result"
    }
   ],
   "source": [
    "# 차분 array 중 해당하는 값을 찾음 \n",
    "\n",
    "c = div[ind_inside_corridor]\n",
    "\n",
    "c"
   ]
  },
  {
   "cell_type": "code",
   "execution_count": 31,
   "metadata": {},
   "outputs": [
    {
     "data": {
      "text/plain": [
       "-0.10032367174533792"
      ]
     },
     "execution_count": 31,
     "metadata": {},
     "output_type": "execute_result"
    }
   ],
   "source": [
    "# [0.4 - 0.8] 분위 구간안에서 연속적으로 나타는 값의 차분의 평균을 구함 \n",
    "\n",
    "np.mean(c)"
   ]
  },
  {
   "cell_type": "markdown",
   "metadata": {},
   "source": [
    "## tsfresh "
   ]
  },
  {
   "cell_type": "code",
   "execution_count": 32,
   "metadata": {},
   "outputs": [],
   "source": [
    "ex1_c = ex1.copy()\n",
    "ex1_c = pd.DataFrame(ex1_c)\n",
    "ex1_c['id'] = 0"
   ]
  },
  {
   "cell_type": "code",
   "execution_count": 33,
   "metadata": {},
   "outputs": [],
   "source": [
    "settings = {'change_quantiles': [{'ql': 0.4, 'qh': 0.8, 'isabs': False, 'f_agg': 'mean'} ]}"
   ]
  },
  {
   "cell_type": "code",
   "execution_count": 34,
   "metadata": {
    "scrolled": true
   },
   "outputs": [
    {
     "name": "stderr",
     "output_type": "stream",
     "text": [
      "Feature Extraction: 100%|██████████| 1/1 [00:00<00:00, 476.25it/s]\n"
     ]
    }
   ],
   "source": [
    "change_quantiles = extract_features(ex1_c, column_id='id', default_fc_parameters=settings)"
   ]
  },
  {
   "cell_type": "code",
   "execution_count": 35,
   "metadata": {},
   "outputs": [
    {
     "data": {
      "text/html": [
       "<div>\n",
       "<style scoped>\n",
       "    .dataframe tbody tr th:only-of-type {\n",
       "        vertical-align: middle;\n",
       "    }\n",
       "\n",
       "    .dataframe tbody tr th {\n",
       "        vertical-align: top;\n",
       "    }\n",
       "\n",
       "    .dataframe thead th {\n",
       "        text-align: right;\n",
       "    }\n",
       "</style>\n",
       "<table border=\"1\" class=\"dataframe\">\n",
       "  <thead>\n",
       "    <tr style=\"text-align: right;\">\n",
       "      <th></th>\n",
       "      <th>0__change_quantiles__f_agg_\"mean\"__isabs_False__qh_0.8__ql_0.4</th>\n",
       "    </tr>\n",
       "  </thead>\n",
       "  <tbody>\n",
       "    <tr>\n",
       "      <th>0</th>\n",
       "      <td>-0.100324</td>\n",
       "    </tr>\n",
       "  </tbody>\n",
       "</table>\n",
       "</div>"
      ],
      "text/plain": [
       "   0__change_quantiles__f_agg_\"mean\"__isabs_False__qh_0.8__ql_0.4\n",
       "0                                          -0.100324             "
      ]
     },
     "execution_count": 35,
     "metadata": {},
     "output_type": "execute_result"
    }
   ],
   "source": [
    "change_quantiles"
   ]
  },
  {
   "cell_type": "code",
   "execution_count": null,
   "metadata": {},
   "outputs": [],
   "source": []
  },
  {
   "cell_type": "markdown",
   "metadata": {},
   "source": [
    "## Example 02"
   ]
  },
  {
   "cell_type": "code",
   "execution_count": 36,
   "metadata": {},
   "outputs": [
    {
     "data": {
      "text/plain": [
       "array([-0.83532823, -1.69499832,  1.13341723,  1.04853072, -2.12832537,\n",
       "       -1.43713939,  0.17793711,  1.39442275,  0.29132019, -0.08200619,\n",
       "        0.64424261,  0.32807995,  0.85743275, -0.93696928,  0.18007496,\n",
       "       -1.42337059, -0.36775578, -1.52328799, -0.6347717 ,  0.98740384,\n",
       "       -1.01601962,  2.04572375,  0.24999852,  0.65116253, -1.26602354,\n",
       "        1.3741556 , -0.60990513,  0.03075795,  0.81965668,  1.45431373])"
      ]
     },
     "execution_count": 36,
     "metadata": {},
     "output_type": "execute_result"
    }
   ],
   "source": [
    "ex2 = np.random.randn(30)\n",
    "\n",
    "ex2"
   ]
  },
  {
   "cell_type": "code",
   "execution_count": 37,
   "metadata": {},
   "outputs": [
    {
     "name": "stdout",
     "output_type": "stream",
     "text": [
      "-1.0660204049844086\n",
      "0.3060240905210299\n"
     ]
    },
    {
     "data": {
      "text/plain": [
       "<matplotlib.lines.Line2D at 0x7f9e508adfd0>"
      ]
     },
     "execution_count": 37,
     "metadata": {},
     "output_type": "execute_result"
    },
    {
     "data": {
      "image/png": "[encoded data removed]",
      "text/plain": [
       "<Figure size 432x288 with 1 Axes>"
      ]
     },
     "metadata": {
      "needs_background": "light"
     },
     "output_type": "display_data"
    }
   ],
   "source": [
    "ex2_series = pd.Series(ex2)\n",
    "\n",
    "q0 = ex2_series.quantile(0.0)\n",
    "ql = ex2_series.quantile(0.2)\n",
    "qh = ex2_series.quantile(0.6) \n",
    "q1 = ex2_series.quantile(1.0)\n",
    "\n",
    "print(ql)\n",
    "print(qh)\n",
    "\n",
    "ax = plt.subplot()\n",
    "ax.plot(ex2, 'o')\n",
    "ax.axhline(ql, color = 'red')\n",
    "ax.axhline(qh, color = 'yellow')\n",
    "ax.axhline(q0, color = 'green')\n",
    "ax.axhline(q1, color = 'purple')"
   ]
  },
  {
   "cell_type": "code",
   "execution_count": 22,
   "metadata": {},
   "outputs": [
    {
     "data": {
      "text/plain": [
       "12"
      ]
     },
     "execution_count": 22,
     "metadata": {},
     "output_type": "execute_result"
    }
   ],
   "source": [
    "cnt = 0\n",
    "for i in range(len(ex2)):\n",
    "    if ql <= ex2_series[i] <= qh:\n",
    "        cnt += 1\n",
    "\n",
    "cnt"
   ]
  },
  {
   "cell_type": "code",
   "execution_count": 38,
   "metadata": {},
   "outputs": [
    {
     "data": {
      "text/plain": [
       "12"
      ]
     },
     "execution_count": 38,
     "metadata": {},
     "output_type": "execute_result"
    }
   ],
   "source": [
    "n_ql = 0.2\n",
    "n_qh = 0.6\n",
    "bin_cat = pd.qcut(ex2, [n_ql, n_qh], labels = False)\n",
    "bin_cat_0 = bin_cat == 0 \n",
    "\n",
    "np.sum(bin_cat_0)"
   ]
  },
  {
   "cell_type": "code",
   "execution_count": 39,
   "metadata": {},
   "outputs": [
    {
     "data": {
      "text/plain": [
       "(array([ 8, 13, 26]),)"
      ]
     },
     "execution_count": 39,
     "metadata": {},
     "output_type": "execute_result"
    }
   ],
   "source": [
    "idx = (bin_cat_0 & _roll(bin_cat_0, 1))[1:]\n",
    "idx_inside_corridor = np.where(idx ==1)\n",
    "\n",
    "idx_inside_corridor\n"
   ]
  },
  {
   "cell_type": "code",
   "execution_count": 40,
   "metadata": {},
   "outputs": [
    {
     "data": {
      "text/plain": [
       "array([-0.37332638,  1.11704424,  0.64066307])"
      ]
     },
     "execution_count": 40,
     "metadata": {},
     "output_type": "execute_result"
    }
   ],
   "source": [
    "div = np.diff(ex2)\n",
    "\n",
    "div[idx_inside_corridor]"
   ]
  },
  {
   "cell_type": "code",
   "execution_count": 41,
   "metadata": {},
   "outputs": [
    {
     "data": {
      "text/plain": [
       "0.46146031030624085"
      ]
     },
     "execution_count": 41,
     "metadata": {},
     "output_type": "execute_result"
    }
   ],
   "source": [
    "# [0.2 - 0.4] 분위에서 연속적으로 나타는 값의 차분의 평균을 구함 \n",
    "\n",
    "np.mean(div[idx_inside_corridor])"
   ]
  },
  {
   "cell_type": "markdown",
   "metadata": {},
   "source": [
    "## tsfresh"
   ]
  },
  {
   "cell_type": "code",
   "execution_count": 42,
   "metadata": {},
   "outputs": [],
   "source": [
    "ex2_c = ex2.copy()\n",
    "ex2_c = pd.DataFrame(ex2_c)\n",
    "ex2_c['id'] = 0"
   ]
  },
  {
   "cell_type": "code",
   "execution_count": 43,
   "metadata": {},
   "outputs": [],
   "source": [
    "settings = {'change_quantiles': [{'ql': 0.2, 'qh': 0.6, 'isabs': False, 'f_agg': 'mean'} ]}"
   ]
  },
  {
   "cell_type": "code",
   "execution_count": 44,
   "metadata": {},
   "outputs": [
    {
     "name": "stderr",
     "output_type": "stream",
     "text": [
      "Feature Extraction: 100%|██████████| 1/1 [00:00<00:00, 652.30it/s]\n"
     ]
    }
   ],
   "source": [
    "change_quantiles = extract_features(ex2_c, column_id ='id', default_fc_parameters=settings)"
   ]
  },
  {
   "cell_type": "code",
   "execution_count": 45,
   "metadata": {},
   "outputs": [
    {
     "data": {
      "text/html": [
       "<div>\n",
       "<style scoped>\n",
       "    .dataframe tbody tr th:only-of-type {\n",
       "        vertical-align: middle;\n",
       "    }\n",
       "\n",
       "    .dataframe tbody tr th {\n",
       "        vertical-align: top;\n",
       "    }\n",
       "\n",
       "    .dataframe thead th {\n",
       "        text-align: right;\n",
       "    }\n",
       "</style>\n",
       "<table border=\"1\" class=\"dataframe\">\n",
       "  <thead>\n",
       "    <tr style=\"text-align: right;\">\n",
       "      <th></th>\n",
       "      <th>0__change_quantiles__f_agg_\"mean\"__isabs_False__qh_0.6__ql_0.2</th>\n",
       "    </tr>\n",
       "  </thead>\n",
       "  <tbody>\n",
       "    <tr>\n",
       "      <th>0</th>\n",
       "      <td>0.46146</td>\n",
       "    </tr>\n",
       "  </tbody>\n",
       "</table>\n",
       "</div>"
      ],
      "text/plain": [
       "   0__change_quantiles__f_agg_\"mean\"__isabs_False__qh_0.6__ql_0.2\n",
       "0                                            0.46146             "
      ]
     },
     "execution_count": 45,
     "metadata": {},
     "output_type": "execute_result"
    }
   ],
   "source": [
    "change_quantiles"
   ]
  },
  {
   "cell_type": "markdown",
   "metadata": {},
   "source": [
    "### Reference"
   ]
  },
  {
   "cell_type": "markdown",
   "metadata": {},
   "source": [
    "* pandas <br>\n",
    "https://pandas.pydata.org/pandas-docs/stable/reference/api/pandas.qcut.html\n",
    "\n",
    "* tsfresh<br>\n",
    "https://tsfresh.readthedocs.io/en/latest/_modules/tsfresh/feature_extraction/feature_calculators.html#change_quantiles<br>\n",
    "https://tsfresh.readthedocs.io/en/latest/api/tsfresh.feature_extraction.html\n",
    "\n",
    "* blog<br>\n",
    "https://kongdols-room.tistory.com/175"
   ]
  },
  {
   "cell_type": "code",
   "execution_count": null,
   "metadata": {},
   "outputs": [],
   "source": []
  }
 ],
 "metadata": {
  "kernelspec": {
   "display_name": "Python 3",
   "language": "python",
   "name": "python3"
  },
  "language_info": {
   "codemirror_mode": {
    "name": "ipython",
    "version": 3
   },
   "file_extension": ".py",
   "mimetype": "text/x-python",
   "name": "python",
   "nbconvert_exporter": "python",
   "pygments_lexer": "ipython3",
   "version": "3.6.9"
  }
 },
 "nbformat": 4,
 "nbformat_minor": 4
}
